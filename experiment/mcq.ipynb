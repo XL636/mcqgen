{
 "cells": [
  {
   "cell_type": "code",
   "execution_count": 115,
   "metadata": {},
   "outputs": [],
   "source": [
    "import os \n",
    "import json\n",
    "import pandas as pd\n",
    "import traceback"
   ]
  },
  {
   "cell_type": "code",
   "execution_count": 116,
   "metadata": {},
   "outputs": [],
   "source": [
    "from langchain_openai import ChatOpenAI"
   ]
  },
  {
   "cell_type": "code",
   "execution_count": 117,
   "metadata": {},
   "outputs": [
    {
     "data": {
      "text/plain": [
       "True"
      ]
     },
     "execution_count": 117,
     "metadata": {},
     "output_type": "execute_result"
    }
   ],
   "source": [
    "from dotenv import load_dotenv\n",
    "load_dotenv() # take enviroment variable from .env"
   ]
  },
  {
   "cell_type": "code",
   "execution_count": 118,
   "metadata": {},
   "outputs": [],
   "source": [
    "mykey = os.getenv(\"OPENAI_API_KEY\")"
   ]
  },
  {
   "cell_type": "code",
   "execution_count": 119,
   "metadata": {},
   "outputs": [],
   "source": [
    "llm = ChatOpenAI(openai_api_key = mykey, model = 'gpt-4o', temperature=0.2)"
   ]
  },
  {
   "cell_type": "code",
   "execution_count": 120,
   "metadata": {},
   "outputs": [
    {
     "data": {
      "text/plain": [
       "ChatOpenAI(client=<openai.resources.chat.completions.completions.Completions object at 0x000001AEE382E220>, async_client=<openai.resources.chat.completions.completions.AsyncCompletions object at 0x000001AEE382AD60>, root_client=<openai.OpenAI object at 0x000001AEE3702CA0>, root_async_client=<openai.AsyncOpenAI object at 0x000001AEE382EB50>, model_name='gpt-4o', temperature=0.2, openai_api_key=SecretStr('**********'), openai_proxy='')"
      ]
     },
     "execution_count": 120,
     "metadata": {},
     "output_type": "execute_result"
    }
   ],
   "source": [
    "llm"
   ]
  },
  {
   "cell_type": "code",
   "execution_count": 121,
   "metadata": {},
   "outputs": [],
   "source": [
    "from langchain.prompts import PromptTemplate\n",
    "from langchain.chains import LLMChain\n",
    "from langchain.chains import SequentialChain\n",
    "from langchain.callbacks import get_openai_callback\n",
    "import PyPDF2"
   ]
  },
  {
   "cell_type": "code",
   "execution_count": 122,
   "metadata": {},
   "outputs": [],
   "source": [
    "RESPONSE_JSON = {\n",
    "    '1': {\n",
    "        'mcq':'multiple choices question',\n",
    "        'options': {\n",
    "            'a':\"choice here\",\n",
    "            'a':\"choice here\",\n",
    "            'a':\"choice here\",\n",
    "            'a':\"choice here\",\n",
    "        },\n",
    "        'correct':\"correct answer\"\n",
    "    },\n",
    "    '2':{\n",
    "        'mcq':\"multiple choices question\",\n",
    "        'option':{\n",
    "            'a':'choices here',\n",
    "            'b':'choices here',\n",
    "            'c':'choices here',\n",
    "            'd':'choices here',\n",
    "        },\n",
    "        'correct':'correct answer'\n",
    "    },\n",
    "    '3':{\n",
    "        'mcq':'multiple choices question',\n",
    "        'option':{\n",
    "            'a':'choices here',\n",
    "            'b':'choices here',\n",
    "            'c':'choices here',\n",
    "            'd':'choices here',\n",
    "        },\n",
    "        'correct':'correct answer'\n",
    "    },\n",
    "    '4':{\n",
    "        'mcq':'multiple choices question',\n",
    "        'option':{\n",
    "            'a':'choices here',\n",
    "            'b':'choices here',\n",
    "            'c':'choices here',\n",
    "            'd':'choices here',\n",
    "        },\n",
    "        'correct':'correct answer'\n",
    "}\n",
    "}"
   ]
  },
  {
   "cell_type": "code",
   "execution_count": 123,
   "metadata": {},
   "outputs": [],
   "source": [
    "TEMPLATE=\"\"\"\n",
    "Text:{text}\n",
    "You are an expert MCQ maker. Given the above text, it is your job to \\\n",
    "create a quiz  of {number} multiple choice questions for {subject} students in {tone} tone. \n",
    "Make sure the questions are not repeated and check all the questions to be conforming the text as well.\n",
    "Make sure to format your response like  RESPONSE_JSON below  and use it as a guide. \\\n",
    "Ensure to make {number} MCQs and Return only JSON, without any additional text or Markdown code blocks (```).\n",
    "### RESPONSE_JSON\n",
    "{response_json}\n",
    "\n",
    "\"\"\""
   ]
  },
  {
   "cell_type": "code",
   "execution_count": 124,
   "metadata": {},
   "outputs": [],
   "source": [
    "quiz_generation_prompt = PromptTemplate(\n",
    "    input_variables= ['text', 'number', 'subject', 'tone','response_json'],\n",
    "    template = TEMPLATE\n",
    ")"
   ]
  },
  {
   "cell_type": "code",
   "execution_count": 125,
   "metadata": {},
   "outputs": [],
   "source": [
    "quiz_chain=LLMChain(llm=llm, prompt=quiz_generation_prompt, output_key=\"quiz\", verbose=True)"
   ]
  },
  {
   "cell_type": "code",
   "execution_count": 126,
   "metadata": {},
   "outputs": [],
   "source": [
    "TEMPLATE2 = \"\"\"\n",
    "You are an expert english grammarian and writer. Given a Multiple Choice Quiz for {subject} students.\\\n",
    "You need to evaluate the complexity of the question and give a complete analysis of the quiz. Only use at max 50 words for complexity analysis. \n",
    "if the quiz is not at per with the cognitive and analytical abilities of the students,\\\n",
    "update the quiz questions which needs to be changed and change the tone such that it perfectly fits the student abilities\n",
    "Quiz_MCQs:\n",
    "{quiz}\n",
    "\n",
    "Check from an expert English Writer of the above quiz:\n",
    "\"\"\""
   ]
  },
  {
   "cell_type": "code",
   "execution_count": 127,
   "metadata": {},
   "outputs": [],
   "source": [
    "quiz_evaluation_prompt = PromptTemplate(input_variables=['subject','quiz'],\n",
    "                                        template= TEMPLATE2)"
   ]
  },
  {
   "cell_type": "code",
   "execution_count": 128,
   "metadata": {},
   "outputs": [],
   "source": [
    "review_chain = LLMChain(llm=llm, prompt = quiz_evaluation_prompt, output_key = 'review', verbose = True)"
   ]
  },
  {
   "cell_type": "code",
   "execution_count": 129,
   "metadata": {},
   "outputs": [],
   "source": [
    "generate_evaluate_chain=SequentialChain(chains=[quiz_chain, review_chain], input_variables=[\"text\", \"number\", \"subject\", \"tone\", \"response_json\"],\n",
    "                                        output_variables=[\"quiz\", \"review\"], verbose=True,)"
   ]
  },
  {
   "cell_type": "code",
   "execution_count": 130,
   "metadata": {},
   "outputs": [],
   "source": [
    "file_path = r\"C:\\Users\\LEX\\mcqgen\\data.txt\""
   ]
  },
  {
   "cell_type": "code",
   "execution_count": 131,
   "metadata": {},
   "outputs": [
    {
     "name": "stdout",
     "output_type": "stream",
     "text": [
      "As a scientific endeavor, machine learning grew out of the quest for artificial intelligence (AI). In the early days of AI as an academic discipline, some researchers were interested in having machines learn from data. They attempted to approach the problem with various symbolic methods, as well as what were then termed \"neural networks\"; these were mostly perceptrons and other models that were later found to be reinventions of the generalized linear models of statistics.[22] Probabilistic reasoning was also employed, especially in automated medical diagnosis.[23]: 488 \n",
      "\n",
      "However, an increasing emphasis on the logical, knowledge-based approach caused a rift between AI and machine learning. Probabilistic systems were plagued by theoretical and practical problems of data acquisition and representation.[23]: 488  By 1980, expert systems had come to dominate AI, and statistics was out of favor.[24] Work on symbolic/knowledge-based learning did continue within AI, leading to inductive logic programming(ILP), but the more statistical line of research was now outside the field of AI proper, in pattern recognition and information retrieval.[23]: 708–710, 755  Neural networks research had been abandoned by AI and computer science around the same time. This line, too, was continued outside the AI/CS field, as \"connectionism\", by researchers from other disciplines including John Hopfield, David Rumelhart, and Geoffrey Hinton. Their main success came in the mid-1980s with the reinvention of backpropagation.[23]: 25 \n",
      "\n",
      "Machine learning (ML), reorganized and recognized as its own field, started to flourish in the 1990s. The field changed its goal from achieving artificial intelligence to tackling solvable problems of a practical nature. It shifted focus away from the symbolic approaches it had inherited from AI, and toward methods and models borrowed from statistics, fuzzy logic, and probability theory.[24]\n"
     ]
    }
   ],
   "source": [
    "with open(file_path, 'r') as file:\n",
    "    TEXT = file.read()\n",
    "\n",
    "TEXT = TEXT.lstrip(\"\\ufeff\")\n",
    "print(TEXT)"
   ]
  },
  {
   "cell_type": "code",
   "execution_count": 132,
   "metadata": {},
   "outputs": [
    {
     "data": {
      "text/plain": [
       "'{\"1\": {\"mcq\": \"multiple choices question\", \"options\": {\"a\": \"choice here\"}, \"correct\": \"correct answer\"}, \"2\": {\"mcq\": \"multiple choices question\", \"option\": {\"a\": \"choices here\", \"b\": \"choices here\", \"c\": \"choices here\", \"d\": \"choices here\"}, \"correct\": \"correct answer\"}, \"3\": {\"mcq\": \"multiple choices question\", \"option\": {\"a\": \"choices here\", \"b\": \"choices here\", \"c\": \"choices here\", \"d\": \"choices here\"}, \"correct\": \"correct answer\"}, \"4\": {\"mcq\": \"multiple choices question\", \"option\": {\"a\": \"choices here\", \"b\": \"choices here\", \"c\": \"choices here\", \"d\": \"choices here\"}, \"correct\": \"correct answer\"}}'"
      ]
     },
     "execution_count": 132,
     "metadata": {},
     "output_type": "execute_result"
    }
   ],
   "source": [
    "# Dic into Json-formatted string\n",
    "json.dumps(RESPONSE_JSON)"
   ]
  },
  {
   "cell_type": "code",
   "execution_count": 133,
   "metadata": {},
   "outputs": [],
   "source": [
    "NUMBER = 5,\n",
    "SUBJECT = \"machine learning\"\n",
    "TONE = \"simple\""
   ]
  },
  {
   "cell_type": "code",
   "execution_count": 134,
   "metadata": {},
   "outputs": [
    {
     "name": "stderr",
     "output_type": "stream",
     "text": [
      "Error in StdOutCallbackHandler.on_chain_start callback: AttributeError(\"'NoneType' object has no attribute 'get'\")\n",
      "Error in StdOutCallbackHandler.on_chain_start callback: AttributeError(\"'NoneType' object has no attribute 'get'\")\n"
     ]
    },
    {
     "name": "stdout",
     "output_type": "stream",
     "text": [
      "Prompt after formatting:\n",
      "\u001b[32;1m\u001b[1;3m\n",
      "Text:As a scientific endeavor, machine learning grew out of the quest for artificial intelligence (AI). In the early days of AI as an academic discipline, some researchers were interested in having machines learn from data. They attempted to approach the problem with various symbolic methods, as well as what were then termed \"neural networks\"; these were mostly perceptrons and other models that were later found to be reinventions of the generalized linear models of statistics.[22] Probabilistic reasoning was also employed, especially in automated medical diagnosis.[23]: 488 \n",
      "\n",
      "However, an increasing emphasis on the logical, knowledge-based approach caused a rift between AI and machine learning. Probabilistic systems were plagued by theoretical and practical problems of data acquisition and representation.[23]: 488  By 1980, expert systems had come to dominate AI, and statistics was out of favor.[24] Work on symbolic/knowledge-based learning did continue within AI, leading to inductive logic programming(ILP), but the more statistical line of research was now outside the field of AI proper, in pattern recognition and information retrieval.[23]: 708–710, 755  Neural networks research had been abandoned by AI and computer science around the same time. This line, too, was continued outside the AI/CS field, as \"connectionism\", by researchers from other disciplines including John Hopfield, David Rumelhart, and Geoffrey Hinton. Their main success came in the mid-1980s with the reinvention of backpropagation.[23]: 25 \n",
      "\n",
      "Machine learning (ML), reorganized and recognized as its own field, started to flourish in the 1990s. The field changed its goal from achieving artificial intelligence to tackling solvable problems of a practical nature. It shifted focus away from the symbolic approaches it had inherited from AI, and toward methods and models borrowed from statistics, fuzzy logic, and probability theory.[24]\n",
      "You are an expert MCQ maker. Given the above text, it is your job to create a quiz  of (5,) multiple choice questions for machine learning students in simple tone. \n",
      "Make sure the questions are not repeated and check all the questions to be conforming the text as well.\n",
      "Make sure to format your response like  RESPONSE_JSON below  and use it as a guide. Ensure to make (5,) MCQs and Return only JSON, without any additional text or Markdown code blocks (```).\n",
      "### RESPONSE_JSON\n",
      "{\"1\": {\"mcq\": \"multiple choices question\", \"options\": {\"a\": \"choice here\"}, \"correct\": \"correct answer\"}, \"2\": {\"mcq\": \"multiple choices question\", \"option\": {\"a\": \"choices here\", \"b\": \"choices here\", \"c\": \"choices here\", \"d\": \"choices here\"}, \"correct\": \"correct answer\"}, \"3\": {\"mcq\": \"multiple choices question\", \"option\": {\"a\": \"choices here\", \"b\": \"choices here\", \"c\": \"choices here\", \"d\": \"choices here\"}, \"correct\": \"correct answer\"}, \"4\": {\"mcq\": \"multiple choices question\", \"option\": {\"a\": \"choices here\", \"b\": \"choices here\", \"c\": \"choices here\", \"d\": \"choices here\"}, \"correct\": \"correct answer\"}}\n",
      "\n",
      "\u001b[0m\n"
     ]
    },
    {
     "name": "stderr",
     "output_type": "stream",
     "text": [
      "Error in StdOutCallbackHandler.on_chain_start callback: AttributeError(\"'NoneType' object has no attribute 'get'\")\n"
     ]
    },
    {
     "name": "stdout",
     "output_type": "stream",
     "text": [
      "\n",
      "\u001b[1m> Finished chain.\u001b[0m\n",
      "Prompt after formatting:\n",
      "\u001b[32;1m\u001b[1;3m\n",
      "You are an expert english grammarian and writer. Given a Multiple Choice Quiz for machine learning students.You need to evaluate the complexity of the question and give a complete analysis of the quiz. Only use at max 50 words for complexity analysis. \n",
      "if the quiz is not at per with the cognitive and analytical abilities of the students,update the quiz questions which needs to be changed and change the tone such that it perfectly fits the student abilities\n",
      "Quiz_MCQs:\n",
      "{\"1\": {\"mcq\": \"What was the initial goal of machine learning as a scientific endeavor?\", \"options\": {\"a\": \"To develop expert systems\", \"b\": \"To achieve artificial intelligence\", \"c\": \"To improve data representation\", \"d\": \"To enhance symbolic methods\"}, \"correct\": \"b\"}, \"2\": {\"mcq\": \"Which approach caused a rift between AI and machine learning?\", \"options\": {\"a\": \"Neural networks\", \"b\": \"Probabilistic reasoning\", \"c\": \"Logical, knowledge-based approach\", \"d\": \"Pattern recognition\"}, \"correct\": \"c\"}, \"3\": {\"mcq\": \"What dominated AI by 1980?\", \"options\": {\"a\": \"Neural networks\", \"b\": \"Expert systems\", \"c\": \"Inductive logic programming\", \"d\": \"Pattern recognition\"}, \"correct\": \"b\"}, \"4\": {\"mcq\": \"Who were some of the researchers involved in continuing neural networks research outside AI?\", \"options\": {\"a\": \"John Hopfield, David Rumelhart, Geoffrey Hinton\", \"b\": \"Alan Turing, John McCarthy, Marvin Minsky\", \"c\": \"Andrew Ng, Yann LeCun, Yoshua Bengio\", \"d\": \"Herbert Simon, Allen Newell, Arthur Samuel\"}, \"correct\": \"a\"}, \"5\": {\"mcq\": \"In which decade did machine learning start to flourish as its own field?\", \"options\": {\"a\": \"1970s\", \"b\": \"1980s\", \"c\": \"1990s\", \"d\": \"2000s\"}, \"correct\": \"c\"}}\n",
      "\n",
      "Check from an expert English Writer of the above quiz:\n",
      "\u001b[0m\n",
      "\n",
      "\u001b[1m> Finished chain.\u001b[0m\n",
      "\n",
      "\u001b[1m> Finished chain.\u001b[0m\n"
     ]
    }
   ],
   "source": [
    "with get_openai_callback() as cb:\n",
    "    response = generate_evaluate_chain.invoke(\n",
    "        {\n",
    "            \"text\": TEXT,\n",
    "            \"number\": NUMBER,\n",
    "            \"subject\": SUBJECT,\n",
    "            \"tone\": TONE,\n",
    "            \"response_json\":json.dumps(RESPONSE_JSON)\n",
    "        }\n",
    "        \n",
    "    )"
   ]
  },
  {
   "cell_type": "code",
   "execution_count": 135,
   "metadata": {},
   "outputs": [
    {
     "name": "stdout",
     "output_type": "stream",
     "text": [
      "1962\n",
      "1140\n",
      "822\n",
      "0.01107\n"
     ]
    }
   ],
   "source": [
    "print(cb.total_tokens)\n",
    "print(cb.prompt_tokens)\n",
    "print(cb.completion_tokens)\n",
    "print(cb.total_cost)"
   ]
  },
  {
   "cell_type": "code",
   "execution_count": 136,
   "metadata": {},
   "outputs": [
    {
     "data": {
      "text/plain": [
       "{'text': 'As a scientific endeavor, machine learning grew out of the quest for artificial intelligence (AI). In the early days of AI as an academic discipline, some researchers were interested in having machines learn from data. They attempted to approach the problem with various symbolic methods, as well as what were then termed \"neural networks\"; these were mostly perceptrons and other models that were later found to be reinventions of the generalized linear models of statistics.[22] Probabilistic reasoning was also employed, especially in automated medical diagnosis.[23]:\\u200a488\\u200a\\n\\nHowever, an increasing emphasis on the logical, knowledge-based approach caused a rift between AI and machine learning. Probabilistic systems were plagued by theoretical and practical problems of data acquisition and representation.[23]:\\u200a488\\u200a By 1980, expert systems had come to dominate AI, and statistics was out of favor.[24] Work on symbolic/knowledge-based learning did continue within AI, leading to inductive logic programming(ILP), but the more statistical line of research was now outside the field of AI proper, in pattern recognition and information retrieval.[23]:\\u200a708–710,\\u200a755\\u200a Neural networks research had been abandoned by AI and computer science around the same time. This line, too, was continued outside the AI/CS field, as \"connectionism\", by researchers from other disciplines including John Hopfield, David Rumelhart, and Geoffrey Hinton. Their main success came in the mid-1980s with the reinvention of backpropagation.[23]:\\u200a25\\u200a\\n\\nMachine learning (ML), reorganized and recognized as its own field, started to flourish in the 1990s. The field changed its goal from achieving artificial intelligence to tackling solvable problems of a practical nature. It shifted focus away from the symbolic approaches it had inherited from AI, and toward methods and models borrowed from statistics, fuzzy logic, and probability theory.[24]',\n",
       " 'number': (5,),\n",
       " 'subject': 'machine learning',\n",
       " 'tone': 'simple',\n",
       " 'response_json': '{\"1\": {\"mcq\": \"multiple choices question\", \"options\": {\"a\": \"choice here\"}, \"correct\": \"correct answer\"}, \"2\": {\"mcq\": \"multiple choices question\", \"option\": {\"a\": \"choices here\", \"b\": \"choices here\", \"c\": \"choices here\", \"d\": \"choices here\"}, \"correct\": \"correct answer\"}, \"3\": {\"mcq\": \"multiple choices question\", \"option\": {\"a\": \"choices here\", \"b\": \"choices here\", \"c\": \"choices here\", \"d\": \"choices here\"}, \"correct\": \"correct answer\"}, \"4\": {\"mcq\": \"multiple choices question\", \"option\": {\"a\": \"choices here\", \"b\": \"choices here\", \"c\": \"choices here\", \"d\": \"choices here\"}, \"correct\": \"correct answer\"}}',\n",
       " 'quiz': '{\"1\": {\"mcq\": \"What was the initial goal of machine learning as a scientific endeavor?\", \"options\": {\"a\": \"To develop expert systems\", \"b\": \"To achieve artificial intelligence\", \"c\": \"To improve data representation\", \"d\": \"To enhance symbolic methods\"}, \"correct\": \"b\"}, \"2\": {\"mcq\": \"Which approach caused a rift between AI and machine learning?\", \"options\": {\"a\": \"Neural networks\", \"b\": \"Probabilistic reasoning\", \"c\": \"Logical, knowledge-based approach\", \"d\": \"Pattern recognition\"}, \"correct\": \"c\"}, \"3\": {\"mcq\": \"What dominated AI by 1980?\", \"options\": {\"a\": \"Neural networks\", \"b\": \"Expert systems\", \"c\": \"Inductive logic programming\", \"d\": \"Pattern recognition\"}, \"correct\": \"b\"}, \"4\": {\"mcq\": \"Who were some of the researchers involved in continuing neural networks research outside AI?\", \"options\": {\"a\": \"John Hopfield, David Rumelhart, Geoffrey Hinton\", \"b\": \"Alan Turing, John McCarthy, Marvin Minsky\", \"c\": \"Andrew Ng, Yann LeCun, Yoshua Bengio\", \"d\": \"Herbert Simon, Allen Newell, Arthur Samuel\"}, \"correct\": \"a\"}, \"5\": {\"mcq\": \"In which decade did machine learning start to flourish as its own field?\", \"options\": {\"a\": \"1970s\", \"b\": \"1980s\", \"c\": \"1990s\", \"d\": \"2000s\"}, \"correct\": \"c\"}}',\n",
       " 'review': \"**Complexity Analysis:**  \\nThe quiz is moderately complex, suitable for students with foundational knowledge in machine learning history. However, some questions may require deeper historical context, which might not align with all students' current understanding.\\n\\n**Updated Quiz:**\\n\\n1. **Original:** What was the initial goal of machine learning as a scientific endeavor?  \\n   **Updated:** What was the primary aim of early machine learning research?  \\n   **Options:**  \\n   a) To create expert systems  \\n   b) To achieve artificial intelligence  \\n   c) To enhance data representation  \\n   d) To improve symbolic methods  \\n   **Correct:** b\\n\\n2. **Original:** Which approach caused a rift between AI and machine learning?  \\n   **Updated:** Which method led to a divide between AI and machine learning communities?  \\n   **Options:**  \\n   a) Neural networks  \\n   b) Probabilistic reasoning  \\n   c) Logical, knowledge-based approach  \\n   d) Pattern recognition  \\n   **Correct:** c\\n\\n3. **Original:** What dominated AI by 1980?  \\n   **Updated:** By 1980, which technology was most prevalent in AI?  \\n   **Options:**  \\n   a) Neural networks  \\n   b) Expert systems  \\n   c) Inductive logic programming  \\n   d) Pattern recognition  \\n   **Correct:** b\\n\\n4. **Original:** Who were some of the researchers involved in continuing neural networks research outside AI?  \\n   **Updated:** Which researchers advanced neural networks research beyond traditional AI?  \\n   **Options:**  \\n   a) John Hopfield, David Rumelhart, Geoffrey Hinton  \\n   b) Alan Turing, John McCarthy, Marvin Minsky  \\n   c) Andrew Ng, Yann LeCun, Yoshua Bengio  \\n   d) Herbert Simon, Allen Newell, Arthur Samuel  \\n   **Correct:** a\\n\\n5. **Original:** In which decade did machine learning start to flourish as its own field?  \\n   **Updated:** When did machine learning begin to thrive independently?  \\n   **Options:**  \\n   a) 1970s  \\n   b) 1980s  \\n   c) 1990s  \\n   d) 2000s  \\n   **Correct:** c\\n\\nThese updates aim to clarify the questions and align them with the cognitive level of machine learning students.\"}"
      ]
     },
     "execution_count": 136,
     "metadata": {},
     "output_type": "execute_result"
    }
   ],
   "source": [
    "response"
   ]
  },
  {
   "cell_type": "code",
   "execution_count": 142,
   "metadata": {},
   "outputs": [
    {
     "name": "stdout",
     "output_type": "stream",
     "text": [
      "{\"1\": {\"mcq\": \"What was the initial goal of machine learning as a scientific endeavor?\", \"options\": {\"a\": \"To develop expert systems\", \"b\": \"To achieve artificial intelligence\", \"c\": \"To improve data representation\", \"d\": \"To enhance symbolic methods\"}, \"correct\": \"b\"}, \"2\": {\"mcq\": \"Which approach caused a rift between AI and machine learning?\", \"options\": {\"a\": \"Neural networks\", \"b\": \"Probabilistic reasoning\", \"c\": \"Logical, knowledge-based approach\", \"d\": \"Pattern recognition\"}, \"correct\": \"c\"}, \"3\": {\"mcq\": \"What dominated AI by 1980?\", \"options\": {\"a\": \"Neural networks\", \"b\": \"Expert systems\", \"c\": \"Inductive logic programming\", \"d\": \"Pattern recognition\"}, \"correct\": \"b\"}, \"4\": {\"mcq\": \"Who were some of the researchers involved in continuing neural networks research outside AI?\", \"options\": {\"a\": \"John Hopfield, David Rumelhart, Geoffrey Hinton\", \"b\": \"Alan Turing, John McCarthy, Marvin Minsky\", \"c\": \"Andrew Ng, Yann LeCun, Yoshua Bengio\", \"d\": \"Herbert Simon, Allen Newell, Arthur Samuel\"}, \"correct\": \"a\"}, \"5\": {\"mcq\": \"In which decade did machine learning start to flourish as its own field?\", \"options\": {\"a\": \"1970s\", \"b\": \"1980s\", \"c\": \"1990s\", \"d\": \"2000s\"}, \"correct\": \"c\"}}\n"
     ]
    }
   ],
   "source": [
    "quiz = response.get('quiz')\n",
    "print(quiz)"
   ]
  },
  {
   "cell_type": "code",
   "execution_count": 143,
   "metadata": {},
   "outputs": [
    {
     "name": "stdout",
     "output_type": "stream",
     "text": [
      "quiz 的长度: 1204\n",
      "quiz 内容（前100个字符）: {\"1\": {\"mcq\": \"What was the initial goal of machine learning as a scientific endeavor?\", \"options\": \n"
     ]
    }
   ],
   "source": [
    "print(f\"quiz 的长度: {len(quiz)}\")\n",
    "print(f\"quiz 内容（前100个字符）: {quiz[:100]}\")\n"
   ]
  },
  {
   "cell_type": "code",
   "execution_count": 146,
   "metadata": {},
   "outputs": [],
   "source": [
    "quiz  = json.loads(quiz)"
   ]
  },
  {
   "cell_type": "code",
   "execution_count": 147,
   "metadata": {},
   "outputs": [],
   "source": [
    "quiz_table_data = []\n",
    "for key, value in quiz.items():\n",
    "    mcq = value[\"mcq\"]\n",
    "    options = \" | \".join(\n",
    "        [\n",
    "            f\"{option}: {option_value}\"\n",
    "            for option, option_value in value[\"options\"].items()\n",
    "            ]\n",
    "        )\n",
    "    correct = value[\"correct\"]\n",
    "    quiz_table_data.append({\"MCQ\": mcq, \"Choices\": options, \"Correct\": correct})"
   ]
  },
  {
   "cell_type": "code",
   "execution_count": 148,
   "metadata": {},
   "outputs": [
    {
     "data": {
      "text/plain": [
       "[{'MCQ': 'What was the initial goal of machine learning as a scientific endeavor?',\n",
       "  'Choices': 'a: To develop expert systems | b: To achieve artificial intelligence | c: To improve data representation | d: To enhance symbolic methods',\n",
       "  'Correct': 'b'},\n",
       " {'MCQ': 'Which approach caused a rift between AI and machine learning?',\n",
       "  'Choices': 'a: Neural networks | b: Probabilistic reasoning | c: Logical, knowledge-based approach | d: Pattern recognition',\n",
       "  'Correct': 'c'},\n",
       " {'MCQ': 'What dominated AI by 1980?',\n",
       "  'Choices': 'a: Neural networks | b: Expert systems | c: Inductive logic programming | d: Pattern recognition',\n",
       "  'Correct': 'b'},\n",
       " {'MCQ': 'Who were some of the researchers involved in continuing neural networks research outside AI?',\n",
       "  'Choices': 'a: John Hopfield, David Rumelhart, Geoffrey Hinton | b: Alan Turing, John McCarthy, Marvin Minsky | c: Andrew Ng, Yann LeCun, Yoshua Bengio | d: Herbert Simon, Allen Newell, Arthur Samuel',\n",
       "  'Correct': 'a'},\n",
       " {'MCQ': 'In which decade did machine learning start to flourish as its own field?',\n",
       "  'Choices': 'a: 1970s | b: 1980s | c: 1990s | d: 2000s',\n",
       "  'Correct': 'c'}]"
      ]
     },
     "execution_count": 148,
     "metadata": {},
     "output_type": "execute_result"
    }
   ],
   "source": [
    "quiz_table_data"
   ]
  },
  {
   "cell_type": "code",
   "execution_count": 150,
   "metadata": {},
   "outputs": [],
   "source": [
    "quiz  = pd.DataFrame(quiz_table_data)"
   ]
  },
  {
   "cell_type": "code",
   "execution_count": 151,
   "metadata": {},
   "outputs": [],
   "source": [
    "quiz.to_csv(\"machine learning.csv\", index=True)"
   ]
  },
  {
   "cell_type": "code",
   "execution_count": 1,
   "metadata": {},
   "outputs": [
    {
     "data": {
      "text/plain": [
       "datetime.datetime(2025, 2, 26, 12, 21, 25, 355625)"
      ]
     },
     "execution_count": 1,
     "metadata": {},
     "output_type": "execute_result"
    }
   ],
   "source": [
    "from datetime import datetime\n",
    "datetime.now()"
   ]
  }
 ],
 "metadata": {
  "kernelspec": {
   "display_name": "Python 3",
   "language": "python",
   "name": "python3"
  },
  "language_info": {
   "codemirror_mode": {
    "name": "ipython",
    "version": 3
   },
   "file_extension": ".py",
   "mimetype": "text/x-python",
   "name": "python",
   "nbconvert_exporter": "python",
   "pygments_lexer": "ipython3",
   "version": "3.8.20"
  }
 },
 "nbformat": 4,
 "nbformat_minor": 2
}
