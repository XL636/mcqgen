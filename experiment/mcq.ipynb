{
 "cells": [
  {
   "cell_type": "code",
   "execution_count": 157,
   "metadata": {},
   "outputs": [],
   "source": [
    "import os \n",
    "import json\n",
    "import pandas as pd\n",
    "import traceback"
   ]
  },
  {
   "cell_type": "code",
   "execution_count": 158,
   "metadata": {},
   "outputs": [],
   "source": [
    "from langchain_openai import ChatOpenAI"
   ]
  },
  {
   "cell_type": "code",
   "execution_count": 159,
   "metadata": {},
   "outputs": [
    {
     "data": {
      "text/plain": [
       "True"
      ]
     },
     "execution_count": 159,
     "metadata": {},
     "output_type": "execute_result"
    }
   ],
   "source": [
    "from dotenv import load_dotenv\n",
    "load_dotenv() # take enviroment variable from .env"
   ]
  },
  {
   "cell_type": "code",
   "execution_count": 160,
   "metadata": {},
   "outputs": [],
   "source": [
    "mykey = os.getenv(\"OPENAI_API_KEY\")"
   ]
  },
  {
   "cell_type": "code",
   "execution_count": 161,
   "metadata": {},
   "outputs": [],
   "source": [
    "llm = ChatOpenAI(openai_api_key = mykey, model = 'gpt-4o', temperature=0.2)"
   ]
  },
  {
   "cell_type": "code",
   "execution_count": 162,
   "metadata": {},
   "outputs": [
    {
     "data": {
      "text/plain": [
       "ChatOpenAI(client=<openai.resources.chat.completions.completions.Completions object at 0x000002D605009EB0>, async_client=<openai.resources.chat.completions.completions.AsyncCompletions object at 0x000002D604FF4550>, root_client=<openai.OpenAI object at 0x000002D603F92940>, root_async_client=<openai.AsyncOpenAI object at 0x000002D605009EE0>, model_name='gpt-4o', temperature=0.2, openai_api_key=SecretStr('**********'), openai_proxy='')"
      ]
     },
     "execution_count": 162,
     "metadata": {},
     "output_type": "execute_result"
    }
   ],
   "source": [
    "llm"
   ]
  },
  {
   "cell_type": "code",
   "execution_count": 163,
   "metadata": {},
   "outputs": [],
   "source": [
    "from langchain.prompts import PromptTemplate\n",
    "from langchain.chains import LLMChain\n",
    "from langchain.chains import SequentialChain\n",
    "from langchain.callbacks import get_openai_callback\n",
    "import PyPDF2"
   ]
  },
  {
   "cell_type": "code",
   "execution_count": 164,
   "metadata": {},
   "outputs": [],
   "source": [
    "RESPONSE_JSON = {\n",
    "    '1': {\n",
    "        'mcq':'multiple choices question',\n",
    "        'options': {\n",
    "            'a':\"choice here\",\n",
    "            'b':\"choice here\",\n",
    "            'c':\"choice here\",\n",
    "            'd':\"choice here\",\n",
    "        },\n",
    "        'correct':\"correct answer\"\n",
    "    },\n",
    "    '2':{\n",
    "        'mcq':\"multiple choices question\",\n",
    "        'option':{\n",
    "            'a':'choices here',\n",
    "            'b':'choices here',\n",
    "            'c':'choices here',\n",
    "            'd':'choices here',\n",
    "        },\n",
    "        'correct':'correct answer'\n",
    "    },\n",
    "    '3':{\n",
    "        'mcq':'multiple choices question',\n",
    "        'option':{\n",
    "            'a':'choices here',\n",
    "            'b':'choices here',\n",
    "            'c':'choices here',\n",
    "            'd':'choices here',\n",
    "        },\n",
    "        'correct':'correct answer'\n",
    "    },\n",
    "    '4':{\n",
    "        'mcq':'multiple choices question',\n",
    "        'option':{\n",
    "            'a':'choices here',\n",
    "            'b':'choices here',\n",
    "            'c':'choices here',\n",
    "            'd':'choices here',\n",
    "        },\n",
    "        'correct':'correct answer'\n",
    "}\n",
    "}"
   ]
  },
  {
   "cell_type": "code",
   "execution_count": 165,
   "metadata": {},
   "outputs": [],
   "source": [
    "TEMPLATE=\"\"\"\n",
    "Text:{text}\n",
    "You are an expert MCQ maker. Given the above text, it is your job to \\\n",
    "create a quiz  of {number} multiple choice questions for {subject} students in {tone} tone. \n",
    "Make sure the questions are not repeated and check all the questions to be conforming the text as well.\n",
    "Make sure to format your response like  RESPONSE_JSON below  and use it as a guide. \\\n",
    "Ensure to make {number} MCQs and Return only JSON, without any additional text or Markdown code blocks (```).\n",
    "### RESPONSE_JSON\n",
    "{response_json}\n",
    "\n",
    "\"\"\""
   ]
  },
  {
   "cell_type": "code",
   "execution_count": 166,
   "metadata": {},
   "outputs": [],
   "source": [
    "quiz_generation_prompt = PromptTemplate(\n",
    "    input_variables= ['text', 'number', 'subject', 'tone','response_json'],\n",
    "    template = TEMPLATE\n",
    ")"
   ]
  },
  {
   "cell_type": "code",
   "execution_count": 167,
   "metadata": {},
   "outputs": [],
   "source": [
    "quiz_chain=LLMChain(llm=llm, prompt=quiz_generation_prompt, output_key=\"quiz\", verbose=True)"
   ]
  },
  {
   "cell_type": "code",
   "execution_count": 168,
   "metadata": {},
   "outputs": [],
   "source": [
    "TEMPLATE2 = \"\"\"\n",
    "You are an expert english grammarian and writer. Given a Multiple Choice Quiz for {subject} students.\\\n",
    "You need to evaluate the complexity of the question and give a complete analysis of the quiz. Only use at max 50 words for complexity analysis. \n",
    "if the quiz is not at per with the cognitive and analytical abilities of the students,\\\n",
    "update the quiz questions which needs to be changed and change the tone such that it perfectly fits the student abilities\n",
    "Quiz_MCQs:\n",
    "{quiz}\n",
    "\n",
    "Check from an expert English Writer of the above quiz:\n",
    "\"\"\""
   ]
  },
  {
   "cell_type": "code",
   "execution_count": 169,
   "metadata": {},
   "outputs": [],
   "source": [
    "quiz_evaluation_prompt = PromptTemplate(input_variables=['subject','quiz'],\n",
    "                                        template= TEMPLATE2)"
   ]
  },
  {
   "cell_type": "code",
   "execution_count": 170,
   "metadata": {},
   "outputs": [],
   "source": [
    "review_chain = LLMChain(llm=llm, prompt = quiz_evaluation_prompt, output_key = 'review', verbose = True)"
   ]
  },
  {
   "cell_type": "code",
   "execution_count": 171,
   "metadata": {},
   "outputs": [],
   "source": [
    "generate_evaluate_chain=SequentialChain(chains=[quiz_chain, review_chain], input_variables=[\"text\", \"number\", \"subject\", \"tone\", \"response_json\"],\n",
    "                                        output_variables=[\"quiz\", \"review\"], verbose=True,)"
   ]
  },
  {
   "cell_type": "code",
   "execution_count": 172,
   "metadata": {},
   "outputs": [],
   "source": [
    "file_path = r\"C:\\Users\\LEX\\mcqgen\\data.txt\""
   ]
  },
  {
   "cell_type": "code",
   "execution_count": 173,
   "metadata": {},
   "outputs": [
    {
     "name": "stdout",
     "output_type": "stream",
     "text": [
      "As a scientific endeavor, machine learning grew out of the quest for artificial intelligence (AI). In the early days of AI as an academic discipline, some researchers were interested in having machines learn from data. They attempted to approach the problem with various symbolic methods, as well as what were then termed \"neural networks\"; these were mostly perceptrons and other models that were later found to be reinventions of the generalized linear models of statistics.[22] Probabilistic reasoning was also employed, especially in automated medical diagnosis.[23]: 488 \n",
      "\n",
      "However, an increasing emphasis on the logical, knowledge-based approach caused a rift between AI and machine learning. Probabilistic systems were plagued by theoretical and practical problems of data acquisition and representation.[23]: 488  By 1980, expert systems had come to dominate AI, and statistics was out of favor.[24] Work on symbolic/knowledge-based learning did continue within AI, leading to inductive logic programming(ILP), but the more statistical line of research was now outside the field of AI proper, in pattern recognition and information retrieval.[23]: 708–710, 755  Neural networks research had been abandoned by AI and computer science around the same time. This line, too, was continued outside the AI/CS field, as \"connectionism\", by researchers from other disciplines including John Hopfield, David Rumelhart, and Geoffrey Hinton. Their main success came in the mid-1980s with the reinvention of backpropagation.[23]: 25 \n",
      "\n",
      "Machine learning (ML), reorganized and recognized as its own field, started to flourish in the 1990s. The field changed its goal from achieving artificial intelligence to tackling solvable problems of a practical nature. It shifted focus away from the symbolic approaches it had inherited from AI, and toward methods and models borrowed from statistics, fuzzy logic, and probability theory.[24]\n"
     ]
    }
   ],
   "source": [
    "with open(file_path, 'r') as file:\n",
    "    TEXT = file.read()\n",
    "\n",
    "TEXT = TEXT.lstrip(\"\\ufeff\")\n",
    "print(TEXT)"
   ]
  },
  {
   "cell_type": "code",
   "execution_count": 174,
   "metadata": {},
   "outputs": [
    {
     "data": {
      "text/plain": [
       "'{\"1\": {\"mcq\": \"multiple choices question\", \"options\": {\"a\": \"choice here\", \"b\": \"choice here\", \"c\": \"choice here\", \"d\": \"choice here\"}, \"correct\": \"correct answer\"}, \"2\": {\"mcq\": \"multiple choices question\", \"option\": {\"a\": \"choices here\", \"b\": \"choices here\", \"c\": \"choices here\", \"d\": \"choices here\"}, \"correct\": \"correct answer\"}, \"3\": {\"mcq\": \"multiple choices question\", \"option\": {\"a\": \"choices here\", \"b\": \"choices here\", \"c\": \"choices here\", \"d\": \"choices here\"}, \"correct\": \"correct answer\"}, \"4\": {\"mcq\": \"multiple choices question\", \"option\": {\"a\": \"choices here\", \"b\": \"choices here\", \"c\": \"choices here\", \"d\": \"choices here\"}, \"correct\": \"correct answer\"}}'"
      ]
     },
     "execution_count": 174,
     "metadata": {},
     "output_type": "execute_result"
    }
   ],
   "source": [
    "# Dic into Json-formatted string\n",
    "json.dumps(RESPONSE_JSON)"
   ]
  },
  {
   "cell_type": "code",
   "execution_count": 175,
   "metadata": {},
   "outputs": [],
   "source": [
    "NUMBER = 5,\n",
    "SUBJECT = \"machine learning\"\n",
    "TONE = \"simple\""
   ]
  },
  {
   "cell_type": "code",
   "execution_count": 176,
   "metadata": {},
   "outputs": [
    {
     "name": "stderr",
     "output_type": "stream",
     "text": [
      "Error in StdOutCallbackHandler.on_chain_start callback: AttributeError(\"'NoneType' object has no attribute 'get'\")\n",
      "Error in StdOutCallbackHandler.on_chain_start callback: AttributeError(\"'NoneType' object has no attribute 'get'\")\n"
     ]
    },
    {
     "name": "stdout",
     "output_type": "stream",
     "text": [
      "Prompt after formatting:\n",
      "\u001b[32;1m\u001b[1;3m\n",
      "Text:As a scientific endeavor, machine learning grew out of the quest for artificial intelligence (AI). In the early days of AI as an academic discipline, some researchers were interested in having machines learn from data. They attempted to approach the problem with various symbolic methods, as well as what were then termed \"neural networks\"; these were mostly perceptrons and other models that were later found to be reinventions of the generalized linear models of statistics.[22] Probabilistic reasoning was also employed, especially in automated medical diagnosis.[23]: 488 \n",
      "\n",
      "However, an increasing emphasis on the logical, knowledge-based approach caused a rift between AI and machine learning. Probabilistic systems were plagued by theoretical and practical problems of data acquisition and representation.[23]: 488  By 1980, expert systems had come to dominate AI, and statistics was out of favor.[24] Work on symbolic/knowledge-based learning did continue within AI, leading to inductive logic programming(ILP), but the more statistical line of research was now outside the field of AI proper, in pattern recognition and information retrieval.[23]: 708–710, 755  Neural networks research had been abandoned by AI and computer science around the same time. This line, too, was continued outside the AI/CS field, as \"connectionism\", by researchers from other disciplines including John Hopfield, David Rumelhart, and Geoffrey Hinton. Their main success came in the mid-1980s with the reinvention of backpropagation.[23]: 25 \n",
      "\n",
      "Machine learning (ML), reorganized and recognized as its own field, started to flourish in the 1990s. The field changed its goal from achieving artificial intelligence to tackling solvable problems of a practical nature. It shifted focus away from the symbolic approaches it had inherited from AI, and toward methods and models borrowed from statistics, fuzzy logic, and probability theory.[24]\n",
      "You are an expert MCQ maker. Given the above text, it is your job to create a quiz  of (5,) multiple choice questions for machine learning students in simple tone. \n",
      "Make sure the questions are not repeated and check all the questions to be conforming the text as well.\n",
      "Make sure to format your response like  RESPONSE_JSON below  and use it as a guide. Ensure to make (5,) MCQs and Return only JSON, without any additional text or Markdown code blocks (```).\n",
      "### RESPONSE_JSON\n",
      "{\"1\": {\"mcq\": \"multiple choices question\", \"options\": {\"a\": \"choice here\", \"b\": \"choice here\", \"c\": \"choice here\", \"d\": \"choice here\"}, \"correct\": \"correct answer\"}, \"2\": {\"mcq\": \"multiple choices question\", \"option\": {\"a\": \"choices here\", \"b\": \"choices here\", \"c\": \"choices here\", \"d\": \"choices here\"}, \"correct\": \"correct answer\"}, \"3\": {\"mcq\": \"multiple choices question\", \"option\": {\"a\": \"choices here\", \"b\": \"choices here\", \"c\": \"choices here\", \"d\": \"choices here\"}, \"correct\": \"correct answer\"}, \"4\": {\"mcq\": \"multiple choices question\", \"option\": {\"a\": \"choices here\", \"b\": \"choices here\", \"c\": \"choices here\", \"d\": \"choices here\"}, \"correct\": \"correct answer\"}}\n",
      "\n",
      "\u001b[0m\n"
     ]
    },
    {
     "name": "stderr",
     "output_type": "stream",
     "text": [
      "Error in StdOutCallbackHandler.on_chain_start callback: AttributeError(\"'NoneType' object has no attribute 'get'\")\n"
     ]
    },
    {
     "name": "stdout",
     "output_type": "stream",
     "text": [
      "\n",
      "\u001b[1m> Finished chain.\u001b[0m\n",
      "Prompt after formatting:\n",
      "\u001b[32;1m\u001b[1;3m\n",
      "You are an expert english grammarian and writer. Given a Multiple Choice Quiz for machine learning students.You need to evaluate the complexity of the question and give a complete analysis of the quiz. Only use at max 50 words for complexity analysis. \n",
      "if the quiz is not at per with the cognitive and analytical abilities of the students,update the quiz questions which needs to be changed and change the tone such that it perfectly fits the student abilities\n",
      "Quiz_MCQs:\n",
      "{\"1\": {\"mcq\": \"What was the original goal of machine learning as a scientific endeavor?\", \"options\": {\"a\": \"To develop expert systems\", \"b\": \"To achieve artificial intelligence\", \"c\": \"To improve data storage\", \"d\": \"To enhance computer graphics\"}, \"correct\": \"b\"}, \"2\": {\"mcq\": \"Which approach caused a rift between AI and machine learning?\", \"options\": {\"a\": \"Neural networks\", \"b\": \"Probabilistic reasoning\", \"c\": \"Logical, knowledge-based approach\", \"d\": \"Pattern recognition\"}, \"correct\": \"c\"}, \"3\": {\"mcq\": \"What was the main success of researchers like John Hopfield and Geoffrey Hinton in the mid-1980s?\", \"options\": {\"a\": \"Development of expert systems\", \"b\": \"Invention of neural networks\", \"c\": \"Reinvention of backpropagation\", \"d\": \"Creation of fuzzy logic\"}, \"correct\": \"c\"}, \"4\": {\"mcq\": \"In which decade did machine learning start to flourish as its own field?\", \"options\": {\"a\": \"1970s\", \"b\": \"1980s\", \"c\": \"1990s\", \"d\": \"2000s\"}, \"correct\": \"c\"}, \"5\": {\"mcq\": \"What did machine learning shift its focus towards in the 1990s?\", \"options\": {\"a\": \"Symbolic approaches\", \"b\": \"Methods from statistics, fuzzy logic, and probability theory\", \"c\": \"Expert systems\", \"d\": \"Data acquisition techniques\"}, \"correct\": \"b\"}}\n",
      "\n",
      "Check from an expert English Writer of the above quiz:\n",
      "\u001b[0m\n",
      "\n",
      "\u001b[1m> Finished chain.\u001b[0m\n",
      "\n",
      "\u001b[1m> Finished chain.\u001b[0m\n"
     ]
    }
   ],
   "source": [
    "with get_openai_callback() as cb:\n",
    "    response = generate_evaluate_chain.invoke(\n",
    "        {\n",
    "            \"text\": TEXT,\n",
    "            \"number\": NUMBER,\n",
    "            \"subject\": SUBJECT,\n",
    "            \"tone\": TONE,\n",
    "            \"response_json\":json.dumps(RESPONSE_JSON)\n",
    "        }\n",
    "        \n",
    "    )"
   ]
  },
  {
   "cell_type": "code",
   "execution_count": 177,
   "metadata": {},
   "outputs": [
    {
     "name": "stdout",
     "output_type": "stream",
     "text": [
      "1894\n",
      "1158\n",
      "736\n",
      "0.010255\n"
     ]
    }
   ],
   "source": [
    "print(cb.total_tokens)\n",
    "print(cb.prompt_tokens)\n",
    "print(cb.completion_tokens)\n",
    "print(cb.total_cost)"
   ]
  },
  {
   "cell_type": "code",
   "execution_count": 178,
   "metadata": {},
   "outputs": [
    {
     "name": "stdout",
     "output_type": "stream",
     "text": [
      "{'text': 'As a scientific endeavor, machine learning grew out of the quest for artificial intelligence (AI). In the early days of AI as an academic discipline, some researchers were interested in having machines learn from data. They attempted to approach the problem with various symbolic methods, as well as what were then termed \"neural networks\"; these were mostly perceptrons and other models that were later found to be reinventions of the generalized linear models of statistics.[22] Probabilistic reasoning was also employed, especially in automated medical diagnosis.[23]:\\u200a488\\u200a\\n\\nHowever, an increasing emphasis on the logical, knowledge-based approach caused a rift between AI and machine learning. Probabilistic systems were plagued by theoretical and practical problems of data acquisition and representation.[23]:\\u200a488\\u200a By 1980, expert systems had come to dominate AI, and statistics was out of favor.[24] Work on symbolic/knowledge-based learning did continue within AI, leading to inductive logic programming(ILP), but the more statistical line of research was now outside the field of AI proper, in pattern recognition and information retrieval.[23]:\\u200a708–710,\\u200a755\\u200a Neural networks research had been abandoned by AI and computer science around the same time. This line, too, was continued outside the AI/CS field, as \"connectionism\", by researchers from other disciplines including John Hopfield, David Rumelhart, and Geoffrey Hinton. Their main success came in the mid-1980s with the reinvention of backpropagation.[23]:\\u200a25\\u200a\\n\\nMachine learning (ML), reorganized and recognized as its own field, started to flourish in the 1990s. The field changed its goal from achieving artificial intelligence to tackling solvable problems of a practical nature. It shifted focus away from the symbolic approaches it had inherited from AI, and toward methods and models borrowed from statistics, fuzzy logic, and probability theory.[24]', 'number': (5,), 'subject': 'machine learning', 'tone': 'simple', 'response_json': '{\"1\": {\"mcq\": \"multiple choices question\", \"options\": {\"a\": \"choice here\", \"b\": \"choice here\", \"c\": \"choice here\", \"d\": \"choice here\"}, \"correct\": \"correct answer\"}, \"2\": {\"mcq\": \"multiple choices question\", \"option\": {\"a\": \"choices here\", \"b\": \"choices here\", \"c\": \"choices here\", \"d\": \"choices here\"}, \"correct\": \"correct answer\"}, \"3\": {\"mcq\": \"multiple choices question\", \"option\": {\"a\": \"choices here\", \"b\": \"choices here\", \"c\": \"choices here\", \"d\": \"choices here\"}, \"correct\": \"correct answer\"}, \"4\": {\"mcq\": \"multiple choices question\", \"option\": {\"a\": \"choices here\", \"b\": \"choices here\", \"c\": \"choices here\", \"d\": \"choices here\"}, \"correct\": \"correct answer\"}}', 'quiz': '{\"1\": {\"mcq\": \"What was the original goal of machine learning as a scientific endeavor?\", \"options\": {\"a\": \"To develop expert systems\", \"b\": \"To achieve artificial intelligence\", \"c\": \"To improve data storage\", \"d\": \"To enhance computer graphics\"}, \"correct\": \"b\"}, \"2\": {\"mcq\": \"Which approach caused a rift between AI and machine learning?\", \"options\": {\"a\": \"Neural networks\", \"b\": \"Probabilistic reasoning\", \"c\": \"Logical, knowledge-based approach\", \"d\": \"Pattern recognition\"}, \"correct\": \"c\"}, \"3\": {\"mcq\": \"What was the main success of researchers like John Hopfield and Geoffrey Hinton in the mid-1980s?\", \"options\": {\"a\": \"Development of expert systems\", \"b\": \"Invention of neural networks\", \"c\": \"Reinvention of backpropagation\", \"d\": \"Creation of fuzzy logic\"}, \"correct\": \"c\"}, \"4\": {\"mcq\": \"In which decade did machine learning start to flourish as its own field?\", \"options\": {\"a\": \"1970s\", \"b\": \"1980s\", \"c\": \"1990s\", \"d\": \"2000s\"}, \"correct\": \"c\"}, \"5\": {\"mcq\": \"What did machine learning shift its focus towards in the 1990s?\", \"options\": {\"a\": \"Symbolic approaches\", \"b\": \"Methods from statistics, fuzzy logic, and probability theory\", \"c\": \"Expert systems\", \"d\": \"Data acquisition techniques\"}, \"correct\": \"b\"}}', 'review': '**Complexity Analysis:**  \\nThe quiz is moderately complex, suitable for students with foundational knowledge in machine learning history and concepts. It requires understanding of historical developments and key figures in the field.\\n\\n**Updated Quiz Questions:**\\n\\n1. **Original Goal of Machine Learning:**  \\n   What was the primary aim of machine learning when it first emerged as a scientific field?  \\n   - a) To create expert systems  \\n   - b) To achieve artificial intelligence  \\n   - c) To enhance data storage  \\n   - d) To improve computer graphics  \\n\\n2. **AI and Machine Learning Rift:**  \\n   Which approach led to a division between artificial intelligence and machine learning?  \\n   - a) Neural networks  \\n   - b) Probabilistic reasoning  \\n   - c) Logical, knowledge-based approach  \\n   - d) Pattern recognition  \\n\\n3. **1980s Research Success:**  \\n   What was the significant achievement of researchers like John Hopfield and Geoffrey Hinton in the mid-1980s?  \\n   - a) Development of expert systems  \\n   - b) Invention of neural networks  \\n   - c) Reinvention of backpropagation  \\n   - d) Creation of fuzzy logic  \\n\\n4. **Flourishing Decade for Machine Learning:**  \\n   During which decade did machine learning begin to thrive as an independent field?  \\n   - a) 1970s  \\n   - b) 1980s  \\n   - c) 1990s  \\n   - d) 2000s  \\n\\n5. **1990s Focus Shift in Machine Learning:**  \\n   In the 1990s, towards what did machine learning shift its focus?  \\n   - a) Symbolic approaches  \\n   - b) Methods from statistics, fuzzy logic, and probability theory  \\n   - c) Expert systems  \\n   - d) Data acquisition techniques  \\n\\nThese questions maintain the original intent but are slightly rephrased for clarity and engagement.'}\n"
     ]
    }
   ],
   "source": [
    "print(response)"
   ]
  },
  {
   "cell_type": "code",
   "execution_count": 179,
   "metadata": {},
   "outputs": [
    {
     "data": {
      "text/plain": [
       "str"
      ]
     },
     "execution_count": 179,
     "metadata": {},
     "output_type": "execute_result"
    }
   ],
   "source": [
    "quiz = response.get('quiz')\n",
    "type(quiz)"
   ]
  },
  {
   "cell_type": "code",
   "execution_count": 180,
   "metadata": {},
   "outputs": [
    {
     "name": "stdout",
     "output_type": "stream",
     "text": [
      "quiz 的长度: 1230\n",
      "quiz 内容（前100个字符）: {\"1\": {\"mcq\": \"What was the original goal of machine learning as a scientific endeavor?\", \"options\":\n"
     ]
    }
   ],
   "source": [
    "print(f\"quiz 的长度: {len(quiz)}\")\n",
    "print(f\"quiz 内容（前100个字符）: {quiz[:100]}\")\n"
   ]
  },
  {
   "cell_type": "code",
   "execution_count": 181,
   "metadata": {},
   "outputs": [],
   "source": [
    "quiz  = json.loads(quiz)"
   ]
  },
  {
   "cell_type": "code",
   "execution_count": 182,
   "metadata": {},
   "outputs": [
    {
     "name": "stdout",
     "output_type": "stream",
     "text": [
      "{'1': {'mcq': 'What was the original goal of machine learning as a scientific endeavor?', 'options': {'a': 'To develop expert systems', 'b': 'To achieve artificial intelligence', 'c': 'To improve data storage', 'd': 'To enhance computer graphics'}, 'correct': 'b'}, '2': {'mcq': 'Which approach caused a rift between AI and machine learning?', 'options': {'a': 'Neural networks', 'b': 'Probabilistic reasoning', 'c': 'Logical, knowledge-based approach', 'd': 'Pattern recognition'}, 'correct': 'c'}, '3': {'mcq': 'What was the main success of researchers like John Hopfield and Geoffrey Hinton in the mid-1980s?', 'options': {'a': 'Development of expert systems', 'b': 'Invention of neural networks', 'c': 'Reinvention of backpropagation', 'd': 'Creation of fuzzy logic'}, 'correct': 'c'}, '4': {'mcq': 'In which decade did machine learning start to flourish as its own field?', 'options': {'a': '1970s', 'b': '1980s', 'c': '1990s', 'd': '2000s'}, 'correct': 'c'}, '5': {'mcq': 'What did machine learning shift its focus towards in the 1990s?', 'options': {'a': 'Symbolic approaches', 'b': 'Methods from statistics, fuzzy logic, and probability theory', 'c': 'Expert systems', 'd': 'Data acquisition techniques'}, 'correct': 'b'}}\n"
     ]
    }
   ],
   "source": [
    "print(quiz)"
   ]
  },
  {
   "cell_type": "code",
   "execution_count": 183,
   "metadata": {},
   "outputs": [],
   "source": [
    "quiz_table_data = []\n",
    "for key, value in quiz.items():\n",
    "    mcq = value[\"mcq\"]\n",
    "    options = \" | \".join(\n",
    "        [\n",
    "            f\"{option}: {option_value}\"\n",
    "            for option, option_value in value[\"options\"].items()\n",
    "            ]\n",
    "        )\n",
    "    correct = value[\"correct\"]\n",
    "    quiz_table_data.append({\"MCQ\": mcq, \"Choices\": options, \"Correct\": correct})"
   ]
  },
  {
   "cell_type": "code",
   "execution_count": 184,
   "metadata": {},
   "outputs": [
    {
     "data": {
      "text/plain": [
       "[{'MCQ': 'What was the original goal of machine learning as a scientific endeavor?',\n",
       "  'Choices': 'a: To develop expert systems | b: To achieve artificial intelligence | c: To improve data storage | d: To enhance computer graphics',\n",
       "  'Correct': 'b'},\n",
       " {'MCQ': 'Which approach caused a rift between AI and machine learning?',\n",
       "  'Choices': 'a: Neural networks | b: Probabilistic reasoning | c: Logical, knowledge-based approach | d: Pattern recognition',\n",
       "  'Correct': 'c'},\n",
       " {'MCQ': 'What was the main success of researchers like John Hopfield and Geoffrey Hinton in the mid-1980s?',\n",
       "  'Choices': 'a: Development of expert systems | b: Invention of neural networks | c: Reinvention of backpropagation | d: Creation of fuzzy logic',\n",
       "  'Correct': 'c'},\n",
       " {'MCQ': 'In which decade did machine learning start to flourish as its own field?',\n",
       "  'Choices': 'a: 1970s | b: 1980s | c: 1990s | d: 2000s',\n",
       "  'Correct': 'c'},\n",
       " {'MCQ': 'What did machine learning shift its focus towards in the 1990s?',\n",
       "  'Choices': 'a: Symbolic approaches | b: Methods from statistics, fuzzy logic, and probability theory | c: Expert systems | d: Data acquisition techniques',\n",
       "  'Correct': 'b'}]"
      ]
     },
     "execution_count": 184,
     "metadata": {},
     "output_type": "execute_result"
    }
   ],
   "source": [
    "quiz_table_data"
   ]
  },
  {
   "cell_type": "code",
   "execution_count": 185,
   "metadata": {},
   "outputs": [],
   "source": [
    "quiz  = pd.DataFrame(quiz_table_data)"
   ]
  },
  {
   "cell_type": "code",
   "execution_count": 186,
   "metadata": {},
   "outputs": [],
   "source": [
    "quiz.to_csv(\"machine learning.csv\", index=True)"
   ]
  },
  {
   "cell_type": "code",
   "execution_count": 187,
   "metadata": {},
   "outputs": [
    {
     "data": {
      "text/plain": [
       "datetime.datetime(2025, 2, 26, 21, 28, 37, 169533)"
      ]
     },
     "execution_count": 187,
     "metadata": {},
     "output_type": "execute_result"
    }
   ],
   "source": [
    "from datetime import datetime\n",
    "datetime.now()"
   ]
  }
 ],
 "metadata": {
  "kernelspec": {
   "display_name": "Python 3",
   "language": "python",
   "name": "python3"
  },
  "language_info": {
   "codemirror_mode": {
    "name": "ipython",
    "version": 3
   },
   "file_extension": ".py",
   "mimetype": "text/x-python",
   "name": "python",
   "nbconvert_exporter": "python",
   "pygments_lexer": "ipython3",
   "version": "3.8.20"
  }
 },
 "nbformat": 4,
 "nbformat_minor": 2
}
